{
 "cells": [
  {
   "cell_type": "markdown",
   "id": "12f80c69-b03e-4e2d-b7d8-48aef356fb08",
   "metadata": {},
   "source": [
    "Q1. How do you comment code in Python? What are the different types of comments?\n"
   ]
  },
  {
   "cell_type": "code",
   "execution_count": 2,
   "id": "2ceeb63c-6829-4b57-89ea-689b0455a979",
   "metadata": {},
   "outputs": [
    {
     "data": {
      "text/plain": [
       "'\\nMulti-line\\nComment\\n'"
      ]
     },
     "execution_count": 2,
     "metadata": {},
     "output_type": "execute_result"
    }
   ],
   "source": [
    "# single line comment : use 'ctrl'+'/' shortcut to comment selected lines of code\n",
    "\n",
    "# a = 2\n",
    "\n",
    "# *********************************************\n",
    "\n",
    "\"\"\"\n",
    "Multi-line\n",
    "Comment\n",
    "\"\"\"\n",
    "\n",
    "'''\n",
    "a = 12\n",
    "b = True\n",
    "print(a & b)\n",
    "'''\n",
    "\n"
   ]
  },
  {
   "cell_type": "markdown",
   "id": "be81bf55-97c6-4ab9-8ad3-1c89737a7eba",
   "metadata": {},
   "source": [
    "Q2. What are variables in Python? How do you declare and assign values to variables?"
   ]
  },
  {
   "cell_type": "code",
   "execution_count": 4,
   "id": "d403df09-816a-450b-9de2-3a954c77e1dd",
   "metadata": {},
   "outputs": [],
   "source": [
    "# Containers that store values. Basically, the variable has the Memory address of the value\n",
    "\n",
    "# Variable declaration of diff. data type\n",
    "# e.g. The below a,b,c,..i are the variable which stores some values\n",
    "\n",
    "a = 1                         #int\n",
    "b = 'var'                     #str\n",
    "d = 20.5                      #float\n",
    "e = [2,'d',52.3]              #list\n",
    "f = (2,5.3,'ds')              #tuple\n",
    "g = {6,8,9,2}                 #set\n",
    "h = {'a':2,'b':3.2}           #dict  \n",
    "i = 5 + 6j                    #complex\n",
    "\n",
    "# as python has 'Dynamic Typing' feature so, it automatically dectects the data type of the variable based on the given value."
   ]
  },
  {
   "cell_type": "markdown",
   "id": "b62ae249-bc1d-4d68-af34-51e61e472705",
   "metadata": {},
   "source": [
    "Q3. How do you convert one data type to another in Python?"
   ]
  },
  {
   "cell_type": "code",
   "execution_count": null,
   "id": "ca29dcde-0491-4244-b519-e26667a7c8a4",
   "metadata": {},
   "outputs": [],
   "source": [
    "# using type casting\n",
    "a = bool(12)\n",
    "b = int('123')\n",
    "c = int(12.5)\n",
    "d = float(12)\n",
    "e = str('123')\n",
    "f = list('123')\n",
    "g = tuple('123')\n",
    "h = set('123')\n",
    "i = bin(15)\n",
    "j = int(bool(12))"
   ]
  },
  {
   "cell_type": "markdown",
   "id": "8ccd2613-26a1-4dc4-95db-f9e9c9dd438e",
   "metadata": {},
   "source": [
    "Q4. How do you write and execute a Python script from the command line?"
   ]
  },
  {
   "cell_type": "code",
   "execution_count": null,
   "id": "6338f55b-b467-4f28-ba55-005e94cb7ea8",
   "metadata": {},
   "outputs": [],
   "source": [
    "'''\n",
    "1. Use any text editor or IDE to create python script & save it.\n",
    "2. Open CMD & navigate to the folder path where the Script located\n",
    "3. then, execute the below command in CMD to run it\n",
    "'''\n",
    "\n",
    "#> python [folder_path/]File_name.py"
   ]
  },
  {
   "cell_type": "markdown",
   "id": "f45f9c8f-6a55-4ef9-9f33-14868a88dd8b",
   "metadata": {},
   "source": [
    "Q5. Given a list my_list = [1, 2, 3, 4, 5], write the code to slice the list and obtain the sub-list [2, 3]."
   ]
  },
  {
   "cell_type": "code",
   "execution_count": 2,
   "id": "875335ae-f453-4b45-ac1e-6605ea02aa4e",
   "metadata": {},
   "outputs": [
    {
     "data": {
      "text/plain": [
       "[2, 3]"
      ]
     },
     "execution_count": 2,
     "metadata": {},
     "output_type": "execute_result"
    }
   ],
   "source": [
    "my_list = [1, 2, 3, 4, 5]\n",
    "my_list[1:3]"
   ]
  },
  {
   "cell_type": "markdown",
   "id": "d8a5f44d-5978-460b-8fc5-14fd4e74824f",
   "metadata": {},
   "source": [
    "Q6. What is a complex number in mathematics, and how is it represented in Python?"
   ]
  },
  {
   "cell_type": "code",
   "execution_count": 3,
   "id": "79b10482-fb55-4857-9d1a-5071fc16fe1c",
   "metadata": {},
   "outputs": [
    {
     "name": "stdout",
     "output_type": "stream",
     "text": [
      "(3+4j)\n",
      "(2+5j)\n"
     ]
    }
   ],
   "source": [
    "'''\n",
    "What is a complex number in mathematics ?\n",
    "--> A complex number is a number that comprises both a real part and an imaginary part. \n",
    "It is represented in the form \"a + bi,\" where \"a\" is the real part, \"b\" is the imaginary part, and \"i\" is the imaginary unit.\n",
    "'''\n",
    "\n",
    "z2 = 2 + 5j \n",
    "# Using complex() function\n",
    "z1 = complex(3, 4)\n",
    "\n",
    "print(z1) \n",
    "print(z2) "
   ]
  },
  {
   "cell_type": "markdown",
   "id": "65b3b036-cb27-4044-9e62-9a6c073ff210",
   "metadata": {},
   "source": [
    "Q7. What is the correct way to declare a variable named age and assign the value 25 to it?"
   ]
  },
  {
   "cell_type": "code",
   "execution_count": 8,
   "id": "d1b2035c-bb50-47a4-8a60-007d07e8a5fc",
   "metadata": {},
   "outputs": [
    {
     "data": {
      "text/plain": [
       "25"
      ]
     },
     "execution_count": 8,
     "metadata": {},
     "output_type": "execute_result"
    }
   ],
   "source": [
    "age = 25\n",
    "age"
   ]
  },
  {
   "cell_type": "markdown",
   "id": "cf3e5a4a-7610-4b09-bd99-426d3b2059d3",
   "metadata": {},
   "source": [
    "Q8. Declare a variable named price and assign the value 9.99 to it. What data type does this variable\n",
    "belong to?"
   ]
  },
  {
   "cell_type": "code",
   "execution_count": 6,
   "id": "bcc1db46-007d-490f-b446-f3053041a8c4",
   "metadata": {},
   "outputs": [
    {
     "data": {
      "text/plain": [
       "float"
      ]
     },
     "execution_count": 6,
     "metadata": {},
     "output_type": "execute_result"
    }
   ],
   "source": [
    "price = 9.99\n",
    "type(price)"
   ]
  },
  {
   "cell_type": "markdown",
   "id": "a6eb5896-52fa-40a9-b865-e38b5167150c",
   "metadata": {},
   "source": [
    "Q9. Create a variable named name and assign your full name to it as a string. How would you print the\n",
    "value of this variable?"
   ]
  },
  {
   "cell_type": "code",
   "execution_count": 9,
   "id": "44e97729-8036-416c-97bc-8c7943025e46",
   "metadata": {},
   "outputs": [
    {
     "name": "stdout",
     "output_type": "stream",
     "text": [
      "My Full Name : Nikesh Ravindra Thorat\n"
     ]
    }
   ],
   "source": [
    "name = 'Nikesh Ravindra Thorat'\n",
    "print(f'My Full Name : {name}')"
   ]
  },
  {
   "cell_type": "markdown",
   "id": "e81d9cec-2c5e-4580-bb45-a393c437a901",
   "metadata": {},
   "source": [
    "Q10. Given the string \"Hello, World!\", extract the substring \"World\"."
   ]
  },
  {
   "cell_type": "code",
   "execution_count": 11,
   "id": "75031b23-ea0c-46af-b6f4-1dee5d5c1183",
   "metadata": {},
   "outputs": [
    {
     "data": {
      "text/plain": [
       "'World'"
      ]
     },
     "execution_count": 11,
     "metadata": {},
     "output_type": "execute_result"
    }
   ],
   "source": [
    "str1 = \"Hello, World!\"\n",
    "str1.split()[1][:-1]"
   ]
  },
  {
   "cell_type": "markdown",
   "id": "3c211926-2963-409b-adf7-ebdf3875e875",
   "metadata": {},
   "source": [
    "Q11. Create a variable named \"is_student\" and assign it a boolean value indicating whether you are\n",
    "currently a student or not."
   ]
  },
  {
   "cell_type": "code",
   "execution_count": null,
   "id": "4f708cb6-1ce4-4ec1-8f23-21d90dca253b",
   "metadata": {},
   "outputs": [],
   "source": [
    "is_student = True"
   ]
  },
  {
   "cell_type": "code",
   "execution_count": null,
   "id": "9497e086-23cd-43fe-ad64-276200f74804",
   "metadata": {},
   "outputs": [],
   "source": []
  }
 ],
 "metadata": {
  "kernelspec": {
   "display_name": "Python 3 (ipykernel)",
   "language": "python",
   "name": "python3"
  },
  "language_info": {
   "codemirror_mode": {
    "name": "ipython",
    "version": 3
   },
   "file_extension": ".py",
   "mimetype": "text/x-python",
   "name": "python",
   "nbconvert_exporter": "python",
   "pygments_lexer": "ipython3",
   "version": "3.10.8"
  }
 },
 "nbformat": 4,
 "nbformat_minor": 5
}
