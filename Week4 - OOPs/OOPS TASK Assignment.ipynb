{
 "cells": [
  {
   "cell_type": "markdown",
   "id": "5a24c02e-1918-4de0-90e8-33f3b1b755d9",
   "metadata": {},
   "source": [
    "Q1. Explain Class and Object with respect to Object-Oriented Programming. Give a suitable example."
   ]
  },
  {
   "cell_type": "code",
   "execution_count": 4,
   "id": "deee0686-8ffd-46da-b334-da616d3c17ee",
   "metadata": {},
   "outputs": [
    {
     "name": "stdout",
     "output_type": "stream",
     "text": [
      " Name =  Ram\n",
      " Age =  15\n",
      " Standard =  10\n"
     ]
    }
   ],
   "source": [
    "''' \n",
    "A class is a blueprint for creating objects. \n",
    "It defines the attributes and methods of the objects that are created from it. \n",
    "A class is defined using the 'class' keyword.\n",
    "\n",
    "An object is an instance of a class. \n",
    "\n",
    "Example: \n",
    "    Here, we have created 'Student' class and 'S1' & 'S2' are instances of it.\n",
    "'''\n",
    "\n",
    "class Student:\n",
    "    def __init__(self, name, age, standard):\n",
    "        self.name = name\n",
    "        self.age = age\n",
    "        self.standard = standard\n",
    "\n",
    "    def display(self):\n",
    "        print(\" Name = \",self.name)\n",
    "        print(\" Age = \",self.age)\n",
    "        print(\" Standard = \",self.standard)\n",
    "\n",
    "        \n",
    "S1 = Student('Ram',15,10)\n",
    "S2 = Student('Sham',16,10)\n",
    "\n",
    "S1.display()\n",
    "\n"
   ]
  },
  {
   "cell_type": "markdown",
   "id": "3d4ad1ab-81aa-4492-b577-c92d88b132cf",
   "metadata": {},
   "source": [
    "Q2. Name the four pillars of OOPs."
   ]
  },
  {
   "cell_type": "markdown",
   "id": "069d7064-8f72-46c1-b524-153f14d897bc",
   "metadata": {},
   "source": [
    "### Polymorphism: \n",
    "It's like one thing doing different jobs. For example, a smartphone can make calls, take pictures, and play music.\n",
    "\n",
    "### Encapsulation: \n",
    "It's like putting things in a box and keeping them safe. In OOP, it means hiding the inside details of an object and only showing what's necessary.\n",
    "\n",
    "### Inheritance: \n",
    "It's like passing down traits from parents to children. In OOP, it allows a new class to use the properties and behaviors of an existing class.\n",
    "\n",
    "### Abstraction: \n",
    "It's like using simplified models. In OOP, it means focusing on what an object does without worrying about how it works inside. For example, when using a TV remote, you don't need to know all the electronics inside; you just press the buttons to change channels."
   ]
  },
  {
   "cell_type": "markdown",
   "id": "ef99ccae-8976-4a25-a7e0-d6b259bd412a",
   "metadata": {},
   "source": [
    "Q3. Explain why the __init__() function is used. Give a suitable example."
   ]
  },
  {
   "cell_type": "code",
   "execution_count": 1,
   "id": "c2d6f57c-30b4-444e-a7dc-44a701c9dc7a",
   "metadata": {},
   "outputs": [
    {
     "name": "stdout",
     "output_type": "stream",
     "text": [
      " Name =  Ram\n",
      " Age =  15\n",
      " Standard =  10\n"
     ]
    }
   ],
   "source": [
    "# init() is refered as a constructor & used to initialize an object when it is created from a class.\n",
    "class Student:\n",
    "    def __init__(self, name, age, standard):\n",
    "        # This is the constructor (init function)\n",
    "        self.name = name # Initialize the name attribute\n",
    "        self.age = age # Initialize the age attribute\n",
    "        self.standard = standard # Initialize the standard attribute\n",
    "\n",
    "    def display(self):\n",
    "        print(\" Name = \",self.name)\n",
    "        print(\" Age = \",self.age)\n",
    "        print(\" Standard = \",self.standard)\n",
    "\n",
    "        \n",
    "S1 = Student('Ram',15,10)\n",
    "S2 = Student('Sham',16,10)\n",
    "\n",
    "S1.display()"
   ]
  },
  {
   "cell_type": "markdown",
   "id": "000c3a97-deb2-48bc-a270-a758a8d9f6e3",
   "metadata": {},
   "source": [
    "Q4. Why self is used in OOPs?\n"
   ]
  },
  {
   "cell_type": "markdown",
   "id": "326a48b9-1e2d-415f-80e7-18b3da115703",
   "metadata": {},
   "source": [
    "In OOP, \"self\" is used to refer to the instance of a class. Think of it as a way for an object to talk about itself"
   ]
  },
  {
   "cell_type": "markdown",
   "id": "ad23a045-95a6-464d-95b1-e31c4ddf5449",
   "metadata": {},
   "source": [
    "Q5. What is inheritance? Give an example for each type of inheritance."
   ]
  },
  {
   "cell_type": "markdown",
   "id": "72aeeb48-abf5-425c-87c6-999649b69f7a",
   "metadata": {},
   "source": [
    "In OOP, it's a way to create a new class by reusing properties and behaviors from an existing class. This concept allows you to build new classes(Child class) that are based on the characteristics of older ones(Parent Class), promoting code reuse and organization."
   ]
  },
  {
   "cell_type": "code",
   "execution_count": 3,
   "id": "72a010cb-f867-4034-9304-46ba4753e9a6",
   "metadata": {},
   "outputs": [
    {
     "name": "stdout",
     "output_type": "stream",
     "text": [
      "My name is Ram and I am 15 years old.\n",
      "Ram (ID: 32) is studying Mathematics.\n",
      "Ram's student ID is 32.\n"
     ]
    }
   ],
   "source": [
    "class Person:\n",
    "    def __init__(self, name, age):\n",
    "        self.name = name\n",
    "        self.age = age\n",
    "\n",
    "    def introduce(self):\n",
    "        print(f\"My name is {self.name} and I am {self.age} years old.\")\n",
    "\n",
    "class Student(Person):\n",
    "    def __init__(self, name, age, student_id):\n",
    "        super().__init__(name, age)\n",
    "        self.student_id = student_id\n",
    "\n",
    "    def study(self, subject):\n",
    "        print(f\"{self.name} (ID: {self.student_id}) is studying {subject}.\")\n",
    "\n",
    "# Creating a Student object\n",
    "s1 = Student(\"Ram\", 15, 32)\n",
    "\n",
    "# Accessing inherited properties and methods\n",
    "s1.introduce()  # Inherited method from Person\n",
    "s1.study(\"Mathematics\")  # Student-specific method\n",
    "\n",
    "# Accessing properties unique to Student\n",
    "print(f\"{s1.name}'s student ID is {s1.student_id}.\")\n"
   ]
  }
 ],
 "metadata": {
  "kernelspec": {
   "display_name": "Python 3 (ipykernel)",
   "language": "python",
   "name": "python3"
  },
  "language_info": {
   "codemirror_mode": {
    "name": "ipython",
    "version": 3
   },
   "file_extension": ".py",
   "mimetype": "text/x-python",
   "name": "python",
   "nbconvert_exporter": "python",
   "pygments_lexer": "ipython3",
   "version": "3.10.8"
  }
 },
 "nbformat": 4,
 "nbformat_minor": 5
}
