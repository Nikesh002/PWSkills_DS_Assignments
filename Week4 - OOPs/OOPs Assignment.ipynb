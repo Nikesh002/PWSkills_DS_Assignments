{
 "cells": [
  {
   "cell_type": "markdown",
   "id": "6e484aff-bb3c-49d7-8945-7e5416c63e35",
   "metadata": {},
   "source": [
    "Q1. Create a vehicle class with an init method having instance variables as name_of_vehicle, max_speed\n",
    "and average_of_vehicle."
   ]
  },
  {
   "cell_type": "code",
   "execution_count": 7,
   "id": "1f8e950a-5088-4a1e-abe7-679f986672db",
   "metadata": {},
   "outputs": [
    {
     "name": "stdout",
     "output_type": "stream",
     "text": [
      "\n",
      "Name of vehicle = Tata Sumo\n",
      "Max speed = 140\n",
      "Average of vehicle = 35.7\n",
      "            \n"
     ]
    }
   ],
   "source": [
    "class Vehicle:\n",
    "        def __init__(self,name_of_vehicle, max_speed, average_of_vehicle):\n",
    "            self.name_of_vehicle = name_of_vehicle\n",
    "            self.max_speed = max_speed\n",
    "            self.average_of_vehicle = average_of_vehicle\n",
    "        \n",
    "        def display_vehicle(self):\n",
    "            print(f\"\"\"\n",
    "Name of vehicle = {self.name_of_vehicle}\n",
    "Max speed = {self.max_speed}\n",
    "Average of vehicle = {self.average_of_vehicle}\n",
    "            \"\"\")\n",
    "v1 = Vehicle('Tata Sumo',140,35.7)\n",
    "v1.display_vehicle()"
   ]
  },
  {
   "cell_type": "markdown",
   "id": "eb1039fc-f7fc-4c7f-b1c6-4d545081a877",
   "metadata": {},
   "source": [
    "Q2. Create a child class car from the vehicle class created in Que 1, which will inherit the vehicle class.\n",
    "Create a method named seating_capacity which takes capacity as an argument and returns the name of\n",
    "the vehicle and its seating capacity."
   ]
  },
  {
   "cell_type": "code",
   "execution_count": 9,
   "id": "ac1a25e3-bc77-4f35-9915-8b02ec973267",
   "metadata": {},
   "outputs": [
    {
     "name": "stdout",
     "output_type": "stream",
     "text": [
      "\n",
      "Name of vehicle = Toyota Camry\n",
      "Max speed = 120\n",
      "Average of vehicle = 28.5\n",
      "            \n",
      "Toyota Camry has seating capacity of 8 passengers.\n"
     ]
    }
   ],
   "source": [
    "class Car(Vehicle):\n",
    "    def __init__(self,name_of_vehicle, max_speed, average_of_vehicle):\n",
    "        super().__init__(name_of_vehicle, max_speed, average_of_vehicle)\n",
    "        \n",
    "    def seating_capacity(self,capacity):\n",
    "        return f\"{self.name_of_vehicle} has seating capacity of {capacity} passengers.\"\n",
    "    \n",
    "c1 = Car('Toyota Camry', 120, 28.5)\n",
    "c1.display_vehicle()     \n",
    "\n",
    "print(c1.seating_capacity(8))"
   ]
  },
  {
   "cell_type": "markdown",
   "id": "5a7ce543-a02c-4752-b32e-0548d2ce06a2",
   "metadata": {},
   "source": [
    "Q3. What is multiple inheritance? Write a python code to demonstrate multiple inheritance."
   ]
  },
  {
   "cell_type": "code",
   "execution_count": 11,
   "id": "b0821f79-0737-485d-a3ab-7f9f48357114",
   "metadata": {},
   "outputs": [
    {
     "name": "stdout",
     "output_type": "stream",
     "text": [
      "My name is Ram and I am 35 years old.\n",
      "I am an employee with ID M12345. I work for a salary of $80000 per year.\n",
      "I am a manager in the HR department.\n"
     ]
    }
   ],
   "source": [
    "# Multiple inheritance in OOP programming is a concept where we can create a new class(Child class) that can inherit or get characteristics from more than one parent class. \n",
    "\n",
    "\n",
    "# Define a parent class 1\n",
    "class Person:\n",
    "    def __init__(self, name, age):\n",
    "        self.name = name\n",
    "        self.age = age\n",
    "\n",
    "    def introduce(self):\n",
    "        return f\"My name is {self.name} and I am {self.age} years old.\"\n",
    "\n",
    "# Define a parent class 2\n",
    "class Employee:\n",
    "    def __init__(self, employee_id, salary):\n",
    "        self.employee_id = employee_id\n",
    "        self.salary = salary\n",
    "\n",
    "    def work(self):\n",
    "        return f\"I am an employee with ID {self.employee_id}. I work for a salary of ${self.salary} per year.\"\n",
    "\n",
    "# Define a child class that inherits from both Person and Employee\n",
    "class Manager(Person, Employee):\n",
    "    def __init__(self, name, age, employee_id, salary, department):\n",
    "        # Call the constructors of both parent classes\n",
    "        Person.__init__(self, name, age)\n",
    "        Employee.__init__(self, employee_id, salary)\n",
    "        self.department = department\n",
    "\n",
    "    def manage_team(self):\n",
    "        return f\"I am a manager in the {self.department} department.\"\n",
    "\n",
    "# Create an instance of the Manager class\n",
    "m1 = Manager(\"Ram\", 35, \"M12345\", 80000, \"HR\")\n",
    "\n",
    "# Demonstrate multiple inheritance\n",
    "print(m1.introduce())      \n",
    "print(m1.work())           \n",
    "print(m1.manage_team())   \n"
   ]
  },
  {
   "cell_type": "markdown",
   "id": "e47fd0b5-d399-4ff3-b178-5e54ba5de1d8",
   "metadata": {},
   "source": [
    "Q4. What are getter and setter in python? Create a class and create a getter and a setter method in this\n",
    "class."
   ]
  },
  {
   "cell_type": "markdown",
   "id": "f9e85a91-b0db-4989-9106-6e8efd77c1b5",
   "metadata": {},
   "source": [
    "Getter: A getter is a method that allows you to retrieve the value of an attribute. It provides read-only access to the attribute.\n",
    "\n",
    "Setter: A setter is a method that allows you to set the value of an attribute. It provides a way to modify the attribute while allowing you to add validation or perform actions when setting the value.\n",
    "\n",
    "They are often used to enforce encapsulation and provide a controlled interface for accessing and modifying the attributes of a class."
   ]
  },
  {
   "cell_type": "code",
   "execution_count": 23,
   "id": "e3ac8e9c-4635-4b31-9236-f4af35ba0c2d",
   "metadata": {},
   "outputs": [
    {
     "name": "stdout",
     "output_type": "stream",
     "text": [
      "Name: Ram\n",
      "Age: 20\n",
      "Invalid age provided.\n",
      "Name: Sham\n",
      "Age: 20\n"
     ]
    }
   ],
   "source": [
    "class Student:\n",
    "    def __init__(self, name, age):\n",
    "        self.__name = name  \n",
    "        self._age = age    \n",
    "\n",
    "    @property\n",
    "    def name(self):\n",
    "        return self.__name\n",
    "\n",
    "    @name.setter\n",
    "    def name(self, value):\n",
    "        if isinstance(value, str) and len(value) > 0:\n",
    "            self.__name = value\n",
    "        else:\n",
    "            print(\"Invalid name provided.\")\n",
    "\n",
    "    @property\n",
    "    def age(self):\n",
    "        return self._age\n",
    "\n",
    "    @age.setter\n",
    "    def age(self, value):\n",
    "        if isinstance(value, int) and value >= 0:\n",
    "            self._age = value\n",
    "        else:\n",
    "            print(\"Invalid age provided.\")\n",
    "\n",
    "# Create an instance of the Student class\n",
    "s1 = Student(\"Ram\", 20)\n",
    "\n",
    "# Using the property to retrieve and modify attribute values\n",
    "print(\"Name:\", s1.name)  \n",
    "print(\"Age:\", s1.age)    \n",
    "\n",
    "# Using the property to modify attribute values\n",
    "s1.name = \"Sham\"\n",
    "s1.age = -6\n",
    "\n",
    "# Using the property to retrieve modified attribute values\n",
    "print(\"Name:\", s1.name)  \n",
    "print(\"Age:\", s1.age)    \n",
    "\n",
    "# print(s1._Student__name)\n"
   ]
  },
  {
   "cell_type": "markdown",
   "id": "cd27b7b1-ca45-414d-b6bc-0de5af1f80c5",
   "metadata": {},
   "source": [
    "Q5.What is method overriding in python? Write a python code to demonstrate method overriding."
   ]
  },
  {
   "cell_type": "markdown",
   "id": "662ab2c0-335d-4d14-a624-e2493bc2dbc4",
   "metadata": {},
   "source": [
    "Method overriding in Python is when a subclass provides its own implementation for a method that is already defined in its superclass. \n",
    "This allows you to customize the behavior of a method for a specific class while still using the same method name."
   ]
  },
  {
   "cell_type": "code",
   "execution_count": 24,
   "id": "b4a48c9a-2c77-4341-b1c1-9e42e4c57127",
   "metadata": {},
   "outputs": [
    {
     "name": "stdout",
     "output_type": "stream",
     "text": [
      "My name is Ram.\n",
      "My name is Sham and my student ID is S12345.\n"
     ]
    }
   ],
   "source": [
    "class Person:\n",
    "    def __init__(self, name):\n",
    "        self.name = name\n",
    "\n",
    "    def introduce(self):\n",
    "        return f\"My name is {self.name}.\"\n",
    "\n",
    "class Student(Person):\n",
    "    def __init__(self, name, student_id):\n",
    "        super().__init__(name)\n",
    "        self.student_id = student_id\n",
    "\n",
    "    def introduce(self):\n",
    "        return f\"My name is {self.name} and my student ID is {self.student_id}.\"\n",
    "\n",
    "# Create instances of the Person and Student classes\n",
    "p1 = Person(\"Ram\")\n",
    "s1 = Student(\"Sham\", \"S12345\")\n",
    "\n",
    "# Demonstrate method overriding\n",
    "print(p1.introduce())   \n",
    "print(s1.introduce())  \n"
   ]
  },
  {
   "cell_type": "code",
   "execution_count": null,
   "id": "27707f26-1175-48c6-896c-e0911132004a",
   "metadata": {},
   "outputs": [],
   "source": []
  },
  {
   "cell_type": "code",
   "execution_count": null,
   "id": "034b8c9c-fc72-4630-9b3c-aa4e5516262a",
   "metadata": {},
   "outputs": [],
   "source": []
  }
 ],
 "metadata": {
  "kernelspec": {
   "display_name": "Python 3 (ipykernel)",
   "language": "python",
   "name": "python3"
  },
  "language_info": {
   "codemirror_mode": {
    "name": "ipython",
    "version": 3
   },
   "file_extension": ".py",
   "mimetype": "text/x-python",
   "name": "python",
   "nbconvert_exporter": "python",
   "pygments_lexer": "ipython3",
   "version": "3.10.8"
  }
 },
 "nbformat": 4,
 "nbformat_minor": 5
}
