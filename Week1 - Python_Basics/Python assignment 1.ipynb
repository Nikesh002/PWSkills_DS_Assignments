{
 "cells": [
  {
   "cell_type": "markdown",
   "id": "9297a800-2668-46dd-a170-28260ee6a65a",
   "metadata": {},
   "source": [
    "Q1. Create one variable containing following type of data:\n",
    "\n",
    "(i) string\n",
    "\n",
    "(ii) list\n",
    "\n",
    "(iii) float\n",
    "\n",
    "(iv) tuple\n"
   ]
  },
  {
   "cell_type": "code",
   "execution_count": 1,
   "id": "a38ccd32-89e7-4016-aebd-a488da4c8a00",
   "metadata": {},
   "outputs": [
    {
     "data": {
      "text/plain": [
       "['abc', [1, 2, 3], 3.5, (2, 5)]"
      ]
     },
     "execution_count": 1,
     "metadata": {},
     "output_type": "execute_result"
    }
   ],
   "source": [
    "a = ['abc',[1,2,3],3.5,(2,5)]\n",
    "a"
   ]
  },
  {
   "cell_type": "markdown",
   "id": "396824df-e441-4db1-87dd-d13529d43608",
   "metadata": {},
   "source": [
    "Q2. Given are some following variables containing data:\n",
    "\n",
    "(i) var1 = ‘ ‘\n",
    "\n",
    "(ii) var2 = ‘[ DS , ML , Python]’\n",
    "\n",
    "(iii) var3 = [ ‘DS’ , ’ML’ , ‘Python’ ]\n",
    "\n",
    "(iv) var4 = 1.\n",
    "\n",
    "\n",
    "What will be the data type of the above given variable.\n",
    "\n"
   ]
  },
  {
   "cell_type": "code",
   "execution_count": 6,
   "id": "d2a22982-9db0-46e0-8f45-0fef5f1dfb3c",
   "metadata": {},
   "outputs": [],
   "source": [
    "var1 = ' '\n",
    "\n",
    "var2 = '[ DS , ML , Python]'\n",
    "\n",
    "var3 = [ 'DS' , 'ML' , 'Python' ]\n",
    "\n",
    "var4 = 1"
   ]
  },
  {
   "cell_type": "code",
   "execution_count": 9,
   "id": "64bc9131-9f22-41e6-a18b-87883dabeb1e",
   "metadata": {},
   "outputs": [
    {
     "name": "stdout",
     "output_type": "stream",
     "text": [
      " type(var1) =  <class 'str'>\n",
      " type(var2) =  <class 'str'>\n",
      " type(var3) =  <class 'list'>\n",
      " type(var4) =  <class 'int'>\n"
     ]
    }
   ],
   "source": [
    "print(' type(var1) = ',type(var1))\n",
    "print(' type(var2) = ',type(var2))\n",
    "print(' type(var3) = ',type(var3))\n",
    "print(' type(var4) = ',type(var4))"
   ]
  },
  {
   "cell_type": "markdown",
   "id": "182ddad2-43e7-435d-87e5-b8477fde85e8",
   "metadata": {},
   "source": [
    "Q3. Explain the use of the following operators using an example:\n",
    "\n",
    "(i) /\n",
    "\n",
    "(ii) %\n",
    "(iii) //\n",
    "\n",
    "(iv) **\n",
    "\n"
   ]
  },
  {
   "cell_type": "code",
   "execution_count": 19,
   "id": "fee810e5-373d-472e-b5f5-02876edcea12",
   "metadata": {},
   "outputs": [
    {
     "name": "stdout",
     "output_type": "stream",
     "text": [
      "/ is division operator use : 40/5 =  8.0\n",
      "% is modulo operator use to returns the remainder of division : 40%5 =  1\n",
      "// is floor division : 40//5 =  8\n",
      "** is power operator 8\n"
     ]
    }
   ],
   "source": [
    "print('/ is division operator use : 40/5 = ',40/5)\n",
    "print('% is modulo operator use to returns the remainder of division : 40%5 = ',41%5)\n",
    "print('// is floor division : 40//5 = ',41//5)\n",
    "print('** is power operator',2**3)"
   ]
  },
  {
   "cell_type": "markdown",
   "id": "f34ba212-8474-449c-be29-baf384f645e7",
   "metadata": {},
   "source": [
    "Q4. Create a list of length 10 of your choice containing multiple types of data. Using for loop print the\n",
    "element and its data type.\n"
   ]
  },
  {
   "cell_type": "code",
   "execution_count": 5,
   "id": "3a56ccc4-6e6e-44b6-869b-01f8990fcc94",
   "metadata": {},
   "outputs": [
    {
     "name": "stdout",
     "output_type": "stream",
     "text": [
      "<class 'int'>\n",
      "<class 'float'>\n",
      "<class 'str'>\n",
      "<class 'tuple'>\n",
      "<class 'set'>\n",
      "<class 'bool'>\n",
      "<class 'dict'>\n",
      "<class 'str'>\n",
      "<class 'complex'>\n",
      "<class 'list'>\n"
     ]
    }
   ],
   "source": [
    "l = [10,5.2,'abc',(2,3),{5,6},True,{'x':2,'y':3},\"xyz\",5+6j,[5,6,7]]\n",
    "\n",
    "for i in l:\n",
    "    print(type(i))"
   ]
  },
  {
   "cell_type": "markdown",
   "id": "380112c8-60e7-4400-abdd-44a4793a911c",
   "metadata": {},
   "source": [
    "Q5. Using a while loop, verify if the number A is purely divisible by number B and if so then how many\n",
    "times it can be divisible.\n"
   ]
  },
  {
   "cell_type": "code",
   "execution_count": 20,
   "id": "2326f0a9-66fc-4a54-9a79-a9625f612646",
   "metadata": {},
   "outputs": [
    {
     "name": "stdin",
     "output_type": "stream",
     "text": [
      "Enter 1st number =  16\n",
      "Enter 2nd number =  9\n"
     ]
    },
    {
     "name": "stdout",
     "output_type": "stream",
     "text": [
      "\n",
      "16 is not purely divisible by 9. \n",
      " try again... \n",
      "\n"
     ]
    },
    {
     "name": "stdin",
     "output_type": "stream",
     "text": [
      "Enter 1st number =  20\n",
      "Enter 2nd number =  2\n"
     ]
    },
    {
     "name": "stdout",
     "output_type": "stream",
     "text": [
      "10\n"
     ]
    }
   ],
   "source": [
    "while True:\n",
    "    A = int(input(\"Enter 1st number = \"))\n",
    "    B = int(input(\"Enter 2nd number = \"))\n",
    "    if A%B == 0:\n",
    "        print(int(A/B))\n",
    "        break;\n",
    "    else:\n",
    "        print(f\"\\n{A} is not purely divisible by {B}. \\n try again... \\n\")"
   ]
  },
  {
   "cell_type": "markdown",
   "id": "b7ac1fe3-8a6c-4e94-8ac4-b461ce0eaac5",
   "metadata": {},
   "source": [
    "Q6. Create a list containing 25 int type data. Using for loop and if-else condition print if the element is\n",
    "divisible by 3 or not.\n"
   ]
  },
  {
   "cell_type": "code",
   "execution_count": 18,
   "id": "9efe5946-ef25-4609-addf-569e83e207f7",
   "metadata": {},
   "outputs": [
    {
     "name": "stdout",
     "output_type": "stream",
     "text": [
      " 1 is not divisible by 3.\n",
      " 2 is not divisible by 3.\n",
      " 3 is divisible by 3.\n",
      " 4 is not divisible by 3.\n",
      " 5 is not divisible by 3.\n",
      " 6 is divisible by 3.\n",
      " 7 is not divisible by 3.\n",
      " 8 is not divisible by 3.\n",
      " 9 is divisible by 3.\n",
      " 10 is not divisible by 3.\n",
      " 11 is not divisible by 3.\n",
      " 12 is divisible by 3.\n",
      " 13 is not divisible by 3.\n",
      " 14 is not divisible by 3.\n",
      " 15 is divisible by 3.\n",
      " 16 is not divisible by 3.\n",
      " 17 is not divisible by 3.\n",
      " 18 is divisible by 3.\n",
      " 19 is not divisible by 3.\n",
      " 20 is not divisible by 3.\n",
      " 21 is divisible by 3.\n",
      " 22 is not divisible by 3.\n",
      " 23 is not divisible by 3.\n",
      " 24 is divisible by 3.\n",
      " 25 is not divisible by 3.\n"
     ]
    }
   ],
   "source": [
    "l = [i for i in range(1,26)]\n",
    "\n",
    "for i in l:\n",
    "    if i%3==0:\n",
    "        print(f\" {i} is divisible by 3.\")\n",
    "    else:\n",
    "        print(f\" {i} is not divisible by 3.\")\n",
    "        "
   ]
  },
  {
   "cell_type": "markdown",
   "id": "d0ce7a57-1c4d-4905-bb54-7b310276e050",
   "metadata": {},
   "source": [
    "Q7. What do you understand about mutable and immutable data types? Give examples for both showing\n",
    "this property."
   ]
  },
  {
   "cell_type": "code",
   "execution_count": 25,
   "id": "f5b9a0d0-0e0b-4c6a-910c-4d7ed88ec5c2",
   "metadata": {},
   "outputs": [
    {
     "name": "stdout",
     "output_type": "stream",
     "text": [
      "original l = [1, 5, 6.3, 'abc']\n",
      "Modified l = [1, 5, 6.3, True]\n",
      "original s = abc\n"
     ]
    },
    {
     "ename": "TypeError",
     "evalue": "'str' object does not support item assignment",
     "output_type": "error",
     "traceback": [
      "\u001b[0;31m---------------------------------------------------------------------------\u001b[0m",
      "\u001b[0;31mTypeError\u001b[0m                                 Traceback (most recent call last)",
      "Cell \u001b[0;32mIn[25], line 17\u001b[0m\n\u001b[1;32m     15\u001b[0m s \u001b[38;5;241m=\u001b[39m \u001b[38;5;124m'\u001b[39m\u001b[38;5;124mabc\u001b[39m\u001b[38;5;124m'\u001b[39m\n\u001b[1;32m     16\u001b[0m \u001b[38;5;28mprint\u001b[39m(\u001b[38;5;124mf\u001b[39m\u001b[38;5;124m\"\u001b[39m\u001b[38;5;124moriginal s = \u001b[39m\u001b[38;5;132;01m{\u001b[39;00ms\u001b[38;5;132;01m}\u001b[39;00m\u001b[38;5;124m\"\u001b[39m)\n\u001b[0;32m---> 17\u001b[0m \u001b[43ms\u001b[49m\u001b[43m[\u001b[49m\u001b[38;5;241;43m0\u001b[39;49m\u001b[43m]\u001b[49m\u001b[38;5;241m=\u001b[39m\u001b[38;5;124m'\u001b[39m\u001b[38;5;124mx\u001b[39m\u001b[38;5;124m'\u001b[39m\n\u001b[1;32m     18\u001b[0m \u001b[38;5;28mprint\u001b[39m(s)\n",
      "\u001b[0;31mTypeError\u001b[0m: 'str' object does not support item assignment"
     ]
    }
   ],
   "source": [
    "# Mutable = It means their individual characterselements can be changed once they are created.\n",
    "# Immutable = It means their individual characters cannot be changed once they are created.\n",
    "\n",
    "'''\n",
    "Mutable Data Types: List, Dictionary, Set\n",
    "\n",
    "Immutable Data Types: Integer, Float, String, Tuple, FrozenSet, Boolean, Range, Bytes\n",
    "'''\n",
    "\n",
    "l = [1,5,6.3,'abc']\n",
    "print(f\"original l = {l}\")\n",
    "l[-1] = True\n",
    "print(f\"Modified l = {l}\")\n",
    "\n",
    "s = 'abc'\n",
    "print(f\"original s = {s}\")\n",
    "s[0]='x'\n",
    "print(s)"
   ]
  }
 ],
 "metadata": {
  "kernelspec": {
   "display_name": "Python 3 (ipykernel)",
   "language": "python",
   "name": "python3"
  },
  "language_info": {
   "codemirror_mode": {
    "name": "ipython",
    "version": 3
   },
   "file_extension": ".py",
   "mimetype": "text/x-python",
   "name": "python",
   "nbconvert_exporter": "python",
   "pygments_lexer": "ipython3",
   "version": "3.10.8"
  }
 },
 "nbformat": 4,
 "nbformat_minor": 5
}
