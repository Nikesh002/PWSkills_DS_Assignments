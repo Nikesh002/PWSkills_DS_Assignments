{
 "cells": [
  {
   "cell_type": "markdown",
   "id": "435b8b39-22b7-4fa3-b689-afb232335ed8",
   "metadata": {},
   "source": [
    "Q1. Which keyword is used to create a function? Create a function to return a list of odd numbers in the\n",
    "range of 1 to 25.\n"
   ]
  },
  {
   "cell_type": "code",
   "execution_count": 3,
   "id": "fb8ebf6d-a206-4a32-bab4-a2237c69b49b",
   "metadata": {},
   "outputs": [
    {
     "data": {
      "text/plain": [
       "[1, 3, 5, 7, 9, 11, 13, 15, 17, 19, 21, 23, 25]"
      ]
     },
     "execution_count": 3,
     "metadata": {},
     "output_type": "execute_result"
    }
   ],
   "source": [
    "# We use 'def' keyword to create/define a function\n",
    "\n",
    "def odd_numbers():\n",
    "    odd = [i for i in range(1,26,2)]\n",
    "    return odd\n",
    "\n",
    "odd_numbers()"
   ]
  },
  {
   "cell_type": "markdown",
   "id": "fedce162-a158-4c04-9cbc-809160554635",
   "metadata": {},
   "source": [
    "Q2. Why *args and **kwargs is used in some functions? Create a function each for *args and **kwargs to\n",
    "demonstrate their use.\n"
   ]
  },
  {
   "cell_type": "code",
   "execution_count": 3,
   "id": "cf7dd09c-c4f5-423c-8fbd-f13f06b80197",
   "metadata": {},
   "outputs": [
    {
     "name": "stdout",
     "output_type": "stream",
     "text": [
      "*args : (10, 4.5, 'abc') \n",
      " **kwargs {'a': 20, 'b': 62.3, 'c': 'xyz'}\n"
     ]
    }
   ],
   "source": [
    "'''\n",
    "*args allows a function to accept a variable number(dynamic arguments) of positional arguments as a tuple(values), and \n",
    "**kwargs allows a function to accept a variable number(dynamic arguments) of keyword arguments as a dictionary(var_names & values) in Python\n",
    "'''\n",
    "\n",
    "def demo_args_kwargs(*args,**kwargs):\n",
    "    return f'*args : {args} \\n **kwargs {kwargs}'\n",
    "    \n",
    "print(demo_args_kwargs(10,4.5,'abc',a=20,b=62.3,c='xyz'))"
   ]
  },
  {
   "cell_type": "markdown",
   "id": "34e5bcda-0ecb-4cc4-bb1a-b79cdf713a11",
   "metadata": {},
   "source": [
    "Q3. What is an iterator in python? Name the method used to initialise the iterator object and the method\n",
    "used for iteration. Use these methods to print the first five elements of the given list [2, 4, 6, 8, 10, 12, 14, 16,\n",
    "18, 20]."
   ]
  },
  {
   "cell_type": "code",
   "execution_count": 5,
   "id": "432f946d-bb6b-4b4c-9951-316a20f9dd09",
   "metadata": {},
   "outputs": [
    {
     "name": "stdout",
     "output_type": "stream",
     "text": [
      "2\n",
      "4\n",
      "6\n",
      "8\n",
      "10\n"
     ]
    }
   ],
   "source": [
    "# An iterator in Python is a sequence traversal tool used to access elements one at a time from a collection or stream.\n",
    "\n",
    "# __iter__(): This method returns the iterator object itself. It is responsible for initializing and returning the iterator.\n",
    "# __next__(): This method returns the next value from the iterator. If there are no more \n",
    "\n",
    "class Demo_Iterator():\n",
    "    \n",
    "    def __init__(self,data):\n",
    "        self.data = data\n",
    "        self.index = 0\n",
    "        \n",
    "    def __iter__(self):\n",
    "        return self\n",
    "    \n",
    "    def __next__(self):\n",
    "        if self.index < 5:\n",
    "            value = self.data[self.index]\n",
    "            self.index += 1\n",
    "            return value\n",
    "        else:\n",
    "            raise StopIteration\n",
    "    \n",
    "    \n",
    "l1 = [i*2 for i in range(1,11)]\n",
    "my_iterator = Demo_Iterator(l1)\n",
    "\n",
    "for i in my_iterator:\n",
    "    print(i)"
   ]
  },
  {
   "cell_type": "markdown",
   "id": "8cd2ad9e-7c1d-4232-beb3-5c0e90269b12",
   "metadata": {},
   "source": [
    "Q4. What is a generator function in python? Why yield keyword is used? Give an example of a generator\n",
    "function.\n"
   ]
  },
  {
   "cell_type": "code",
   "execution_count": 6,
   "id": "364b1663-d120-4f44-a4dd-07b2341ec529",
   "metadata": {},
   "outputs": [
    {
     "name": "stdout",
     "output_type": "stream",
     "text": [
      "5\n",
      "4\n",
      "3\n",
      "2\n",
      "1\n"
     ]
    }
   ],
   "source": [
    "'''\n",
    "A generator function in Python produces values one at a time using the yield keyword, enabling efficient memory usage for large datasets \n",
    "by yielding values on-demand rather than creating a full list.\n",
    "'''\n",
    "\n",
    "def countdown(n):\n",
    "    while n > 0:\n",
    "        yield n\n",
    "        n -= 1\n",
    "\n",
    "for num in countdown(5):\n",
    "    print(num)\n"
   ]
  },
  {
   "cell_type": "markdown",
   "id": "1b15c165-495f-4338-87d6-c5bb17119ac5",
   "metadata": {},
   "source": [
    "Q5. Create a generator function for prime numbers less than 1000. Use the next() method to print the\n",
    "first 20 prime numbers."
   ]
  },
  {
   "cell_type": "code",
   "execution_count": 10,
   "id": "3e0e4fb1-7f06-4bed-b994-f1faf88f509b",
   "metadata": {},
   "outputs": [
    {
     "name": "stdout",
     "output_type": "stream",
     "text": [
      "2\n",
      "3\n",
      "5\n",
      "7\n",
      "11\n",
      "13\n",
      "17\n",
      "19\n",
      "23\n",
      "29\n",
      "31\n",
      "37\n",
      "41\n",
      "43\n",
      "47\n",
      "53\n",
      "59\n",
      "61\n",
      "67\n",
      "71\n"
     ]
    }
   ],
   "source": [
    "def is_Prime(n):\n",
    "    if n <= 1:\n",
    "        return False\n",
    "    elif n <= 3:\n",
    "        return True\n",
    "    elif n % 2 == 0 or n % 3 == 0:\n",
    "        return False\n",
    "    i = 5\n",
    "    while i * i <= n:\n",
    "        if n % i == 0:\n",
    "            return False\n",
    "        i += 2  \n",
    "    return True\n",
    "\n",
    "def generate_Prime():\n",
    "    n = 2\n",
    "    while n < 1000:\n",
    "        if is_Prime(n):\n",
    "            yield n\n",
    "        n += 1\n",
    "        \n",
    "        \n",
    "prime_gen = generate_Prime()\n",
    "for i in range(20):\n",
    "    print(next(prime_gen))"
   ]
  }
 ],
 "metadata": {
  "kernelspec": {
   "display_name": "Python 3 (ipykernel)",
   "language": "python",
   "name": "python3"
  },
  "language_info": {
   "codemirror_mode": {
    "name": "ipython",
    "version": 3
   },
   "file_extension": ".py",
   "mimetype": "text/x-python",
   "name": "python",
   "nbconvert_exporter": "python",
   "pygments_lexer": "ipython3",
   "version": "3.10.8"
  }
 },
 "nbformat": 4,
 "nbformat_minor": 5
}
